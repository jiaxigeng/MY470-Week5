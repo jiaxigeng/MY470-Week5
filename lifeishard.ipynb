{
 "cells": [
  {
   "cell_type": "code",
   "execution_count": 47,
   "metadata": {},
   "outputs": [],
   "source": [
    "# Exercise 1: Work with the person next to you to design \n",
    "# classes to manage the products, customers, and purchase \n",
    "# orders for an online book store such as amazon.com. \n",
    "# Outline the data attributes and useful methods for \n",
    "# each class. You can discuss and create the outline together. \n",
    "\n",
    "class Products(object):\n",
    "    def __init__(self, p_name, p_price):\n",
    "        self.p_name = p_name\n",
    "        self.p_price = p_price\n",
    "    \n",
    "    def get_name(self):\n",
    "        return self.p_name\n",
    "\n",
    "    def set_price(self, p_price):\n",
    "        self.p_price = p_price\n",
    "    \n",
    "    def get_price(self):\n",
    "        return self.p_price\n",
    "    \n",
    "    \n",
    "class Customers(object):\n",
    "    def __init__(self, c_name):\n",
    "        self.c_name = c_name\n",
    "\n",
    "    def get_customer(self):\n",
    "        return self.c_name\n",
    "\n",
    "\n",
    "class Purchase(object):\n",
    "    def __init__(self, date, customer, product, amount):\n",
    "        self.date = date\n",
    "        self.customer = customer\n",
    "        self.product = product\n",
    "        self.amount = amount\n",
    "\n",
    "    def get_total(self):\n",
    "        return self.product.get_price()*self.amount\n",
    "    \n",
    "    def get_records(self):\n",
    "        record = \"On %s, customer %s buy %d %s. %s paid %d.\"%(self.date, self.customer.get_customer(), \n",
    "                                self.amount, self.product.get_name(),self.customer.get_customer(), self.get_total())\n",
    "        return record"
   ]
  },
  {
   "cell_type": "code",
   "execution_count": 48,
   "metadata": {},
   "outputs": [],
   "source": [
    "iPhone = Products(\"Macbook Pro\", 20)\n",
    "\n",
    "Jessica = Customers(\"Jessica\")\n",
    "\n",
    "Gary = Customers(\"Gary\")"
   ]
  },
  {
   "cell_type": "code",
   "execution_count": 49,
   "metadata": {},
   "outputs": [],
   "source": [
    "record = Purchase(\"Monday\", Jessica, iPhone, 10)"
   ]
  },
  {
   "cell_type": "code",
   "execution_count": 50,
   "metadata": {},
   "outputs": [
    {
     "data": {
      "text/plain": [
       "'On Monday, customer Jessica buy 10 Macbook Pro. Jessica paid 200.'"
      ]
     },
     "execution_count": 50,
     "metadata": {},
     "output_type": "execute_result"
    }
   ],
   "source": [
    "record.get_records()"
   ]
  }
 ],
 "metadata": {
  "kernelspec": {
   "display_name": "Python 3",
   "language": "python",
   "name": "python3"
  },
  "language_info": {
   "codemirror_mode": {
    "name": "ipython",
    "version": 3
   },
   "file_extension": ".py",
   "mimetype": "text/x-python",
   "name": "python",
   "nbconvert_exporter": "python",
   "pygments_lexer": "ipython3",
   "version": "3.6.6"
  }
 },
 "nbformat": 4,
 "nbformat_minor": 2
}
